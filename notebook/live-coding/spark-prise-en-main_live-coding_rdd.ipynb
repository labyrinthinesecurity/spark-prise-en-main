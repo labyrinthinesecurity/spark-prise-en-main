{
 "cells": [
  {
   "cell_type": "markdown",
   "metadata": {
    "application/vnd.databricks.v1+cell": {
     "cellMetadata": {
      "byteLimit": 2048000,
      "rowLimit": 10000
     },
     "inputWidgets": {},
     "nuid": "b157cdc5-400e-4875-bf84-6a5e40326a49",
     "showTitle": false,
     "title": ""
    }
   },
   "source": [
    "## Partie 1 : Word count dans un fichier txt."
   ]
  },
  {
   "cell_type": "markdown",
   "metadata": {
    "application/vnd.databricks.v1+cell": {
     "cellMetadata": {
      "byteLimit": 2048000,
      "rowLimit": 10000
     },
     "inputWidgets": {},
     "nuid": "ade5c254-1007-4395-b5d3-477ac064c47e",
     "showTitle": false,
     "title": ""
    }
   },
   "source": [
    "Charger le fichier mobyDick.txt (précédemment uploadé) dans un RDD."
   ]
  },
  {
   "cell_type": "code",
   "execution_count": 0,
   "metadata": {
    "application/vnd.databricks.v1+cell": {
     "cellMetadata": {
      "byteLimit": 2048000,
      "rowLimit": 10000
     },
     "inputWidgets": {},
     "nuid": "0de83c32-b345-4bf3-94b3-7326179385ea",
     "showTitle": false,
     "title": ""
    }
   },
   "outputs": [
    {
     "output_type": "display_data",
     "data": {
      "text/html": [
       "<style scoped>\n",
       "  .table-result-container {\n",
       "    max-height: 300px;\n",
       "    overflow: auto;\n",
       "  }\n",
       "  table, th, td {\n",
       "    border: 1px solid black;\n",
       "    border-collapse: collapse;\n",
       "  }\n",
       "  th, td {\n",
       "    padding: 5px;\n",
       "  }\n",
       "  th {\n",
       "    text-align: left;\n",
       "  }\n",
       "</style><div class='table-result-container'><table class='table-result'><thead style='background-color: white'><tr><th>path</th><th>name</th><th>size</th><th>modificationTime</th></tr></thead><tbody><tr><td>dbfs:/FileStore/tables/mobyDick.txt</td><td>mobyDick.txt</td><td>1292064</td><td>1728296372000</td></tr></tbody></table></div>"
      ]
     },
     "metadata": {
      "application/vnd.databricks.v1+output": {
       "addedWidgets": {},
       "aggData": [],
       "aggError": "",
       "aggOverflow": false,
       "aggSchema": [],
       "aggSeriesLimitReached": false,
       "aggType": "",
       "arguments": {},
       "columnCustomDisplayInfos": {},
       "data": [
        [
         "dbfs:/FileStore/tables/mobyDick.txt",
         "mobyDick.txt",
         1292064,
         1728296372000
        ]
       ],
       "datasetInfos": [],
       "dbfsResultPath": null,
       "isJsonSchema": true,
       "metadata": {
        "isDbfsCommandResult": false
       },
       "overflow": false,
       "plotOptions": {
        "customPlotOptions": {},
        "displayType": "table",
        "pivotAggregation": null,
        "pivotColumns": null,
        "xColumns": null,
        "yColumns": null
       },
       "removedWidgets": [],
       "schema": [
        {
         "metadata": "{}",
         "name": "path",
         "type": "\"string\""
        },
        {
         "metadata": "{}",
         "name": "name",
         "type": "\"string\""
        },
        {
         "metadata": "{}",
         "name": "size",
         "type": "\"long\""
        },
        {
         "metadata": "{}",
         "name": "modificationTime",
         "type": "\"long\""
        }
       ],
       "type": "table"
      }
     },
     "output_type": "display_data"
    }
   ],
   "source": [
    "%fs ls /FileStore/tables/mobyDick.txt"
   ]
  },
  {
   "cell_type": "code",
   "execution_count": 0,
   "metadata": {
    "application/vnd.databricks.v1+cell": {
     "cellMetadata": {
      "byteLimit": 2048000,
      "rowLimit": 10000
     },
     "inputWidgets": {},
     "nuid": "ef0ba06c-e61c-4d7a-b6e9-92fafd8d2117",
     "showTitle": false,
     "title": ""
    }
   },
   "outputs": [],
   "source": [
    "moby_rdd = sc.textFile(\"/FileStore/tables/mobyDick.txt\")"
   ]
  },
  {
   "cell_type": "markdown",
   "metadata": {
    "application/vnd.databricks.v1+cell": {
     "cellMetadata": {
      "byteLimit": 2048000,
      "rowLimit": 10000
     },
     "inputWidgets": {},
     "nuid": "e51d5f68-3cf5-44f0-a56b-28f495be62fa",
     "showTitle": false,
     "title": ""
    }
   },
   "source": [
    "Compter et afficher le nombre de lignes de celui-ci."
   ]
  },
  {
   "cell_type": "code",
   "execution_count": 0,
   "metadata": {
    "application/vnd.databricks.v1+cell": {
     "cellMetadata": {
      "byteLimit": 2048000,
      "rowLimit": 10000
     },
     "inputWidgets": {},
     "nuid": "1c5ae359-bb00-422f-8dc8-e8b3bcb7ebf1",
     "showTitle": false,
     "title": ""
    }
   },
   "outputs": [
    {
     "output_type": "stream",
     "name": "stdout",
     "output_type": "stream",
     "text": [
      "21933\n"
     ]
    }
   ],
   "source": [
    "print(moby_rdd.count())"
   ]
  },
  {
   "cell_type": "markdown",
   "metadata": {
    "application/vnd.databricks.v1+cell": {
     "cellMetadata": {
      "byteLimit": 2048000,
      "rowLimit": 10000
     },
     "inputWidgets": {},
     "nuid": "4dfa5471-6356-4b0c-accc-fc4acb0b8007",
     "showTitle": false,
     "title": ""
    }
   },
   "source": [
    "Créer un nouveau RDD qui contiendra les lignes contenant le mot ‘chapter’ (non sensible à la casse). Combien y en a-t-il ?"
   ]
  },
  {
   "cell_type": "code",
   "execution_count": 0,
   "metadata": {
    "application/vnd.databricks.v1+cell": {
     "cellMetadata": {
      "byteLimit": 2048000,
      "rowLimit": 10000
     },
     "inputWidgets": {},
     "nuid": "9a8d8bc1-c1a3-4974-b7f4-f2c7070abed8",
     "showTitle": false,
     "title": ""
    }
   },
   "outputs": [
    {
     "output_type": "stream",
     "name": "stdout",
     "output_type": "stream",
     "text": [
      "316\n"
     ]
    }
   ],
   "source": [
    "chapter_rdd = moby_rdd.filter(lambda x: \"chapter\" in x.lower())\n",
    "print(chapter_rdd.count())"
   ]
  },
  {
   "cell_type": "markdown",
   "metadata": {
    "application/vnd.databricks.v1+cell": {
     "cellMetadata": {
      "byteLimit": 2048000,
      "rowLimit": 10000
     },
     "inputWidgets": {},
     "nuid": "c73428c0-12cc-4adf-bedf-e1389137766e",
     "showTitle": false,
     "title": ""
    }
   },
   "source": [
    "Créer un nouveau RDD qui contiendra uniquement les lignes non vides de mobyDick. Combien y en a-t-il ?\n"
   ]
  },
  {
   "cell_type": "code",
   "execution_count": 0,
   "metadata": {
    "application/vnd.databricks.v1+cell": {
     "cellMetadata": {
      "byteLimit": 2048000,
      "rowLimit": 10000
     },
     "inputWidgets": {},
     "nuid": "e0d097fb-fee8-4a25-b904-3b72a5f7906e",
     "showTitle": false,
     "title": ""
    }
   },
   "outputs": [
    {
     "output_type": "stream",
     "name": "stdout",
     "output_type": "stream",
     "text": [
      "18913\n"
     ]
    }
   ],
   "source": [
    "non_empty_rdd =  moby_rdd.filter(lambda line: len(line.strip()) > 0)\n",
    "print(non_empty_rdd.count())"
   ]
  },
  {
   "cell_type": "markdown",
   "metadata": {
    "application/vnd.databricks.v1+cell": {
     "cellMetadata": {
      "byteLimit": 2048000,
      "rowLimit": 10000
     },
     "inputWidgets": {},
     "nuid": "802af410-b964-4498-9ab7-b93cabd7b822",
     "showTitle": false,
     "title": ""
    }
   },
   "source": [
    "Compter le nombre d’occurrences de chaque mot dans le document obtenu à la question précédente, en suivant l’approche du WordCount de MapReduce. Consulter la documentation des méthodes flatMap, map et reduceByKey. Combien y a-t-il de mots différents au total ?"
   ]
  },
  {
   "cell_type": "code",
   "execution_count": 0,
   "metadata": {
    "application/vnd.databricks.v1+cell": {
     "cellMetadata": {
      "byteLimit": 2048000,
      "rowLimit": 10000
     },
     "inputWidgets": {},
     "nuid": "1db7ace4-ec5e-484b-80ff-364f829618f8",
     "showTitle": false,
     "title": ""
    }
   },
   "outputs": [],
   "source": [
    "word_counts_rdd = non_empty_rdd.flatMap(str.split).map(lambda x: (x, 1)).reduceByKey(int.__add__)"
   ]
  },
  {
   "cell_type": "code",
   "execution_count": 0,
   "metadata": {
    "application/vnd.databricks.v1+cell": {
     "cellMetadata": {
      "byteLimit": 2048000,
      "rowLimit": 10000
     },
     "inputWidgets": {},
     "nuid": "941fa83a-feb2-49cd-ba77-a080bb5cef61",
     "showTitle": false,
     "title": ""
    }
   },
   "outputs": [
    {
     "output_type": "stream",
     "name": "stdout",
     "output_type": "stream",
     "text": [
      "33086\n"
     ]
    }
   ],
   "source": [
    "print(word_counts_rdd.count())"
   ]
  },
  {
   "cell_type": "markdown",
   "metadata": {
    "application/vnd.databricks.v1+cell": {
     "cellMetadata": {
      "byteLimit": 2048000,
      "rowLimit": 10000
     },
     "inputWidgets": {},
     "nuid": "d4ba68fc-acb0-48f7-a5a9-9ff2d8ab3334",
     "showTitle": false,
     "title": ""
    }
   },
   "source": [
    "Afficher les 10 mots les plus fréquents du livre."
   ]
  },
  {
   "cell_type": "code",
   "execution_count": 0,
   "metadata": {
    "application/vnd.databricks.v1+cell": {
     "cellMetadata": {
      "byteLimit": 2048000,
      "rowLimit": 10000
     },
     "inputWidgets": {},
     "nuid": "c8d468bf-9dc0-49fd-8ca6-f381d1c9db64",
     "showTitle": false,
     "title": ""
    }
   },
   "outputs": [
    {
     "output_type": "execute_result",
     "data": {
      "text/plain": [
       "[(13694, 'the'),\n",
       " (6531, 'of'),\n",
       " (5932, 'and'),\n",
       " (4493, 'a'),\n",
       " (4459, 'to'),\n",
       " (3850, 'in'),\n",
       " (2679, 'that'),\n",
       " (2428, 'his'),\n",
       " (1723, 'I'),\n",
       " (1649, 'with')]"
      ]
     },
     "execution_count": 17,
     "metadata": {},
     "output_type": "execute_result"
    }
   ],
   "source": [
    "word_counts_rdd.map(lambda x: (x[1], x[0])).top(10)"
   ]
  },
  {
   "cell_type": "markdown",
   "metadata": {
    "application/vnd.databricks.v1+cell": {
     "cellMetadata": {
      "byteLimit": 2048000,
      "rowLimit": 10000
     },
     "inputWidgets": {},
     "nuid": "04739c1f-054c-4196-bf73-49e7758549b3",
     "showTitle": false,
     "title": ""
    }
   },
   "source": [
    "## Partie 2 : Représentation d'un graphe sous forme de RDD (sans utiliser GraphX ni de GraphFrame)."
   ]
  },
  {
   "cell_type": "markdown",
   "metadata": {
    "application/vnd.databricks.v1+cell": {
     "cellMetadata": {
      "byteLimit": 2048000,
      "rowLimit": 10000
     },
     "inputWidgets": {},
     "nuid": "f50f187e-78e6-483a-9797-f0d970bcd3a2",
     "showTitle": false,
     "title": ""
    }
   },
   "source": [
    "On considère l’ensemble de triplets suivants, représentant les arcs d'un graphe :"
   ]
  },
  {
   "cell_type": "code",
   "execution_count": 0,
   "metadata": {
    "application/vnd.databricks.v1+cell": {
     "cellMetadata": {
      "byteLimit": 2048000,
      "rowLimit": 10000
     },
     "inputWidgets": {},
     "nuid": "92ac7571-96cc-4e70-bd20-6ee1dbd48359",
     "showTitle": false,
     "title": ""
    }
   },
   "outputs": [],
   "source": [
    "graph = {\n",
    "    (1, 0, 5),\n",
    "    (5, 1, 8),\n",
    "    (8, 2, 1),\n",
    "    (2 ,0 ,6),\n",
    "    (3, 0, 6),\n",
    "    (6, 1, 9),\n",
    "    (5, 1, 9),\n",
    "    (9, 3, 11),\n",
    "    (9, 4, 12),\n",
    "    (4, 0, 7),\n",
    "    (7, 1, 9),\n",
    "    (7, 2, 10),\n",
    "    (14, 1, 15),\n",
    "    (15, 1, 16),\n",
    "    (14, 1, 16),\n",
    "    (17, 0, 18),\n",
    "    (18, 0, 19),\n",
    "    (19, 1, 20),\n",
    "    (20, 0, 17),\n",
    "}"
   ]
  },
  {
   "cell_type": "markdown",
   "metadata": {
    "application/vnd.databricks.v1+cell": {
     "cellMetadata": {
      "byteLimit": 2048000,
      "rowLimit": 10000
     },
     "inputWidgets": {},
     "nuid": "44ae01ad-1376-4f08-ab6f-dd518a41814c",
     "showTitle": false,
     "title": ""
    }
   },
   "source": [
    "La structure de chaque arc est la suivante :\n",
    "    <br>- le premier élément correspond à l’identifiant du nœud d'origine (sujet du triplet),\n",
    "    <br>- le second élément correspond au label de l’arc,\n",
    "    <br>- le troisième et dernier élément correspond à l’identifiant du nœud d'arrivée (objet du triplet)."
   ]
  },
  {
   "cell_type": "markdown",
   "metadata": {
    "application/vnd.databricks.v1+cell": {
     "cellMetadata": {
      "byteLimit": 2048000,
      "rowLimit": 10000
     },
     "inputWidgets": {},
     "nuid": "b292003e-31a3-40b7-831b-99e1b71cfddf",
     "showTitle": false,
     "title": ""
    }
   },
   "source": [
    "Charger le graphe dans un RDD. Compter et afficher le nombre d'arcs qu'il contient."
   ]
  },
  {
   "cell_type": "code",
   "execution_count": 0,
   "metadata": {
    "application/vnd.databricks.v1+cell": {
     "cellMetadata": {
      "byteLimit": 2048000,
      "rowLimit": 10000
     },
     "inputWidgets": {},
     "nuid": "52553284-5438-4500-afc0-87ac9d1fb268",
     "showTitle": false,
     "title": ""
    }
   },
   "outputs": [
    {
     "output_type": "stream",
     "name": "stdout",
     "output_type": "stream",
     "text": [
      "19\n"
     ]
    }
   ],
   "source": [
    "triplet_rdd = sc.parallelize(graph)\n",
    "triplet_rdd.collect()\n",
    "print(triplet_rdd.count())"
   ]
  },
  {
   "cell_type": "markdown",
   "metadata": {
    "application/vnd.databricks.v1+cell": {
     "cellMetadata": {
      "byteLimit": 2048000,
      "rowLimit": 10000
     },
     "inputWidgets": {},
     "nuid": "9670b15e-0fa1-434a-8458-858b27d6bfb7",
     "showTitle": false,
     "title": ""
    }
   },
   "source": [
    "En pratique nous ne souhaitons pas utiliser les labels des arcs. Créer un nouveau RDD ne comportant que les paires (sujet, objet)."
   ]
  },
  {
   "cell_type": "code",
   "execution_count": 0,
   "metadata": {
    "application/vnd.databricks.v1+cell": {
     "cellMetadata": {
      "byteLimit": 2048000,
      "rowLimit": 10000
     },
     "inputWidgets": {},
     "nuid": "c9535922-955d-4b27-be22-2ae8c61564cf",
     "showTitle": false,
     "title": ""
    }
   },
   "outputs": [],
   "source": [
    "so_pair_rdd = triplet_rdd.map(lambda x: (x[0], x[2]))"
   ]
  },
  {
   "cell_type": "markdown",
   "metadata": {
    "application/vnd.databricks.v1+cell": {
     "cellMetadata": {
      "byteLimit": 2048000,
      "rowLimit": 10000
     },
     "inputWidgets": {},
     "nuid": "2e7f8ca8-a29e-46c8-b0ca-9dc304481ab8",
     "showTitle": false,
     "title": ""
    }
   },
   "source": [
    "On appelle racine un noeud qui ne reçoit aucun arc (qui n'est objet d'aucun triplet). Créer un RDD ne contenant que les racines du graphe. Pour cela, créer deux rdd intermédiaires contenant l'ensemble des objets d'une part et des sujets d'autre part et les persister au niveau MEMORY_ONLY. Les racines sont les sujets privés des objets.\n",
    "Afficher les racines."
   ]
  },
  {
   "cell_type": "code",
   "execution_count": 0,
   "metadata": {
    "application/vnd.databricks.v1+cell": {
     "cellMetadata": {
      "byteLimit": 2048000,
      "rowLimit": 10000
     },
     "inputWidgets": {},
     "nuid": "bc6ec2b6-519a-4094-af82-64954c22504e",
     "showTitle": false,
     "title": ""
    }
   },
   "outputs": [],
   "source": [
    "from pyspark import StorageLevel"
   ]
  },
  {
   "cell_type": "code",
   "execution_count": 0,
   "metadata": {
    "application/vnd.databricks.v1+cell": {
     "cellMetadata": {
      "byteLimit": 2048000,
      "rowLimit": 10000
     },
     "inputWidgets": {},
     "nuid": "93db793c-f4c9-4657-b3c4-c1ba3a0e4345",
     "showTitle": false,
     "title": ""
    }
   },
   "outputs": [
    {
     "output_type": "execute_result",
     "data": {
      "text/plain": [
       "PythonRDD[46] at RDD at PythonRDD.scala:61"
      ]
     },
     "execution_count": 24,
     "metadata": {},
     "output_type": "execute_result"
    }
   ],
   "source": [
    "subjects = so_pair_rdd.map(lambda x: x[0]).distinct()\n",
    "objects = so_pair_rdd.map(lambda x: x[1]).distinct()\n",
    "subjects.persist(storageLevel=StorageLevel.MEMORY_ONLY)\n",
    "objects.persist(storageLevel=StorageLevel.MEMORY_ONLY)"
   ]
  },
  {
   "cell_type": "code",
   "execution_count": 0,
   "metadata": {
    "application/vnd.databricks.v1+cell": {
     "cellMetadata": {
      "byteLimit": 2048000,
      "rowLimit": 10000
     },
     "inputWidgets": {},
     "nuid": "1646b0cc-d71f-4b98-b79a-b7b9d95a9c59",
     "showTitle": false,
     "title": ""
    }
   },
   "outputs": [
    {
     "output_type": "execute_result",
     "data": {
      "text/plain": [
       "[2, 3, 4, 14]"
      ]
     },
     "execution_count": 27,
     "metadata": {},
     "output_type": "execute_result"
    }
   ],
   "source": [
    "roots = subjects.subtract(objects)\n",
    "roots.collect()"
   ]
  },
  {
   "cell_type": "markdown",
   "metadata": {
    "application/vnd.databricks.v1+cell": {
     "cellMetadata": {
      "byteLimit": 2048000,
      "rowLimit": 10000
     },
     "inputWidgets": {},
     "nuid": "999aa0c5-5ea0-438c-bec5-937e1b8d0b72",
     "showTitle": false,
     "title": ""
    }
   },
   "source": [
    "De manière analogue, calculer et afficher les feuilles, noeuds qui ne sont origines (sujets) d'aucun arc."
   ]
  },
  {
   "cell_type": "code",
   "execution_count": 0,
   "metadata": {
    "application/vnd.databricks.v1+cell": {
     "cellMetadata": {
      "byteLimit": 2048000,
      "rowLimit": 10000
     },
     "inputWidgets": {},
     "nuid": "8f0ec07f-aff6-4fe5-8b56-deb0c954ccd8",
     "showTitle": false,
     "title": ""
    }
   },
   "outputs": [
    {
     "output_type": "execute_result",
     "data": {
      "text/plain": [
       "[16, 10, 11, 12]"
      ]
     },
     "execution_count": 28,
     "metadata": {},
     "output_type": "execute_result"
    }
   ],
   "source": [
    "leaves = objects.subtract(subjects)\n",
    "leaves.collect()"
   ]
  },
  {
   "cell_type": "markdown",
   "metadata": {
    "application/vnd.databricks.v1+cell": {
     "cellMetadata": {
      "byteLimit": 2048000,
      "rowLimit": 10000
     },
     "inputWidgets": {},
     "nuid": "5500aab4-f741-44f2-b690-966b842e1210",
     "showTitle": false,
     "title": ""
    }
   },
   "source": [
    "Question optionnelle, plus difficile :\n",
    "Créer un nouveau RDD qui contient la \"fermeture transitive\" du graphe, correspondant à l'ensemble des paires (origine, destination) où la destination est accessible à partir de l'origine à partir d'un chemin composé d'un ou plusieurs arc.\n",
    "Par exemple, si le graphe était {(1, 2), (2, 3)}, alors sa fermeture transitive serait {(1, 2), (2, 3), (1, 3)}, car 2 est accessible directement à partir de 1, 3 est accessible directement à partir de 2, et 3 est accessible indirectement à partir de 1, en deux étapes.\n"
   ]
  },
  {
   "cell_type": "code",
   "execution_count": 0,
   "metadata": {
    "application/vnd.databricks.v1+cell": {
     "cellMetadata": {
      "byteLimit": 2048000,
      "rowLimit": 10000
     },
     "inputWidgets": {},
     "nuid": "3b5e4c1d-f3a2-4325-bb58-34e46a11d012",
     "showTitle": false,
     "title": ""
    }
   },
   "outputs": [
    {
     "output_type": "execute_result",
     "data": {
      "text/plain": [
       "[(8, (5, 1)),\n",
       " (9, (5, 11)),\n",
       " (9, (5, 12)),\n",
       " (9, (7, 11)),\n",
       " (9, (7, 12)),\n",
       " (9, (6, 11)),\n",
       " (9, (6, 12)),\n",
       " (1, (8, 5)),\n",
       " (17, (20, 18)),\n",
       " (18, (17, 19)),\n",
       " (19, (18, 20)),\n",
       " (20, (19, 17)),\n",
       " (5, (1, 9)),\n",
       " (5, (1, 8)),\n",
       " (6, (2, 9)),\n",
       " (6, (3, 9)),\n",
       " (7, (4, 10)),\n",
       " (7, (4, 9)),\n",
       " (15, (14, 16))]"
      ]
     },
     "execution_count": 32,
     "metadata": {},
     "output_type": "execute_result"
    }
   ],
   "source": [
    "so_pair_rdd.map(\n",
    "    lambda x: (x[1], x[0])\n",
    ").join(\n",
    "    so_pair_rdd\n",
    ").collect()"
   ]
  },
  {
   "cell_type": "code",
   "execution_count": 0,
   "metadata": {
    "application/vnd.databricks.v1+cell": {
     "cellMetadata": {
      "byteLimit": 2048000,
      "rowLimit": 10000
     },
     "inputWidgets": {},
     "nuid": "d5ecee69-150c-4bfd-802a-5fa08cbf5295",
     "showTitle": false,
     "title": ""
    }
   },
   "outputs": [],
   "source": [
    "def transitive_closure(so_pair_rdd):\n",
    "\n",
    "    def loop(old_pair_rdd, old_size):\n",
    "        new_pair_rdd = old_pair_rdd.map(\n",
    "            lambda x: (x[1], x[0])\n",
    "        ).join(\n",
    "            old_pair_rdd\n",
    "        ).map(\n",
    "            lambda x: x[1]\n",
    "        ).union(\n",
    "            old_pair_rdd\n",
    "        ).distinct()\n",
    "        new_size = new_pair_rdd.count()\n",
    "        if old_size != new_size:\n",
    "            return loop(new_pair_rdd, new_size)\n",
    "        return new_pair_rdd\n",
    "    \n",
    "    return loop(so_pair_rdd, so_pair_rdd.count())"
   ]
  },
  {
   "cell_type": "code",
   "execution_count": 0,
   "metadata": {
    "application/vnd.databricks.v1+cell": {
     "cellMetadata": {
      "byteLimit": 2048000,
      "rowLimit": 10000
     },
     "inputWidgets": {},
     "nuid": "0103ad45-5568-472c-88bc-c3c976356051",
     "showTitle": false,
     "title": ""
    }
   },
   "outputs": [],
   "source": [
    "tc_rdd = transitive_closure(so_pair_rdd)"
   ]
  },
  {
   "cell_type": "markdown",
   "metadata": {
    "application/vnd.databricks.v1+cell": {
     "cellMetadata": {
      "byteLimit": 2048000,
      "rowLimit": 10000
     },
     "inputWidgets": {},
     "nuid": "ac14d9d4-8403-4b17-809a-e10d680ab3f1",
     "showTitle": false,
     "title": ""
    }
   },
   "source": [
    "Déterminer et afficher les paires (sujet, objet) qui ont été ajoutées dans la fermeture transitive, en les triant par ordre croissant de sujet puis objet."
   ]
  },
  {
   "cell_type": "code",
   "execution_count": 0,
   "metadata": {
    "application/vnd.databricks.v1+cell": {
     "cellMetadata": {
      "byteLimit": 2048000,
      "rowLimit": 10000
     },
     "inputWidgets": {},
     "nuid": "cf481ba0-4ddb-48b5-a070-434dbe3c1ef3",
     "showTitle": false,
     "title": ""
    }
   },
   "outputs": [
    {
     "output_type": "execute_result",
     "data": {
      "text/plain": [
       "[(7, 11),\n",
       " (7, 12),\n",
       " (5, 5),\n",
       " (3, 12),\n",
       " (5, 11),\n",
       " (20, 19),\n",
       " (3, 9),\n",
       " (17, 19),\n",
       " (1, 1),\n",
       " (1, 11),\n",
       " (8, 12),\n",
       " (3, 11),\n",
       " (17, 17),\n",
       " (17, 20),\n",
       " (1, 9),\n",
       " (4, 9),\n",
       " (1, 12),\n",
       " (8, 9),\n",
       " (4, 12),\n",
       " (19, 18),\n",
       " (2, 11),\n",
       " (5, 1),\n",
       " (20, 18),\n",
       " (5, 12),\n",
       " (18, 20),\n",
       " (4, 11),\n",
       " (18, 17),\n",
       " (19, 17),\n",
       " (8, 11),\n",
       " (2, 12),\n",
       " (2, 9),\n",
       " (6, 12),\n",
       " (6, 11),\n",
       " (19, 19),\n",
       " (18, 18),\n",
       " (8, 8),\n",
       " (20, 20),\n",
       " (4, 10),\n",
       " (1, 8),\n",
       " (8, 5)]"
      ]
     },
     "execution_count": 36,
     "metadata": {},
     "output_type": "execute_result"
    }
   ],
   "source": [
    "tc_rdd.subtract(so_pair_rdd).collect()"
   ]
  },
  {
   "cell_type": "markdown",
   "metadata": {
    "application/vnd.databricks.v1+cell": {
     "cellMetadata": {
      "byteLimit": 2048000,
      "rowLimit": 10000
     },
     "inputWidgets": {},
     "nuid": "462299af-8b61-46cf-b753-89362957442c",
     "showTitle": false,
     "title": ""
    }
   },
   "source": [
    "Créer un RDD contenant l'ensemble des nœuds accessibles à partir d'une racine.\n",
    "Chaque élément de ce RDD contiendra un tuple avec la racine en première position et une liste triée de tous les nœuds accessibles en deuxième position."
   ]
  },
  {
   "cell_type": "code",
   "execution_count": 0,
   "metadata": {
    "application/vnd.databricks.v1+cell": {
     "cellMetadata": {
      "byteLimit": 2048000,
      "rowLimit": 10000
     },
     "inputWidgets": {},
     "nuid": "44b0025b-e2db-4fe3-a0ac-593110c541e7",
     "showTitle": false,
     "title": ""
    }
   },
   "outputs": [
    {
     "output_type": "execute_result",
     "data": {
      "text/plain": [
       "[(2, [6, 9, 11, 12]),\n",
       " (3, [6, 9, 11, 12]),\n",
       " (4, [7, 9, 10, 11, 12]),\n",
       " (14, [15, 16])]"
      ]
     },
     "execution_count": 49,
     "metadata": {},
     "output_type": "execute_result"
    }
   ],
   "source": [
    "roots.map(\n",
    "    lambda x: (x, x)\n",
    ").join(\n",
    "    tc_rdd.groupByKey().map(lambda x: (x[0], sorted(x[1])))\n",
    ").map(\n",
    "    lambda x: x[1]\n",
    ").collect()"
   ]
  },
  {
   "cell_type": "code",
   "execution_count": 0,
   "metadata": {
    "application/vnd.databricks.v1+cell": {
     "cellMetadata": {},
     "inputWidgets": {},
     "nuid": "b3d7b167-ec41-4ee6-9af5-478516469009",
     "showTitle": false,
     "title": ""
    }
   },
   "outputs": [],
   "source": []
  }
 ],
 "metadata": {
  "application/vnd.databricks.v1+notebook": {
   "dashboards": [],
   "environmentMetadata": null,
   "language": "python",
   "notebookMetadata": {
    "mostRecentlyExecutedCommandWithImplicitDF": {
     "commandId": 2232880830988097,
     "dataframes": [
      "_sqldf"
     ]
    },
    "pythonIndentUnit": 4
   },
   "notebookName": "spark-prise-en-main_enonce_rdd",
   "widgets": {}
  },
  "language_info": {
   "name": "python"
  }
 },
 "nbformat": 4,
 "nbformat_minor": 0
}
