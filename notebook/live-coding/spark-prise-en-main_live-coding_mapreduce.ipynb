{
 "cells": [
  {
   "cell_type": "markdown",
   "metadata": {
    "application/vnd.databricks.v1+cell": {
     "cellMetadata": {},
     "inputWidgets": {},
     "nuid": "8c4771b2-a1cf-480d-847a-29494a8b841c",
     "showTitle": false,
     "title": ""
    }
   },
   "source": [
    "## <font color=\"purple\"> Les opérations map et reduce </font>"
   ]
  },
  {
   "cell_type": "markdown",
   "metadata": {
    "application/vnd.databricks.v1+cell": {
     "cellMetadata": {},
     "inputWidgets": {},
     "nuid": "5f5c995d-c72d-4a22-9ed4-6e464bb35ce5",
     "showTitle": false,
     "title": ""
    }
   },
   "source": [
    "Disposant de la liste suivante, proposer 3 syntaxes pour calculer la liste des carrés de ses éléments :"
   ]
  },
  {
   "cell_type": "code",
   "execution_count": 0,
   "metadata": {
    "application/vnd.databricks.v1+cell": {
     "cellMetadata": {
      "byteLimit": 2048000,
      "rowLimit": 10000
     },
     "inputWidgets": {},
     "nuid": "bb65824b-5325-4f1a-9e15-d724d1996586",
     "showTitle": false,
     "title": ""
    }
   },
   "outputs": [],
   "source": [
    "a = [1, 4, 74, 2]"
   ]
  },
  {
   "cell_type": "code",
   "execution_count": 0,
   "metadata": {
    "application/vnd.databricks.v1+cell": {
     "cellMetadata": {
      "byteLimit": 2048000,
      "rowLimit": 10000
     },
     "inputWidgets": {},
     "nuid": "0a9d2047-6765-4b38-b3fe-d3cc5d0e40d2",
     "showTitle": false,
     "title": ""
    }
   },
   "outputs": [
    {
     "output_type": "stream",
     "name": "stdout",
     "output_type": "stream",
     "text": [
      "[1, 16, 5476, 4]\n"
     ]
    }
   ],
   "source": [
    "b = [i ** 2 for i in a]\n",
    "print(b)"
   ]
  },
  {
   "cell_type": "code",
   "execution_count": 0,
   "metadata": {
    "application/vnd.databricks.v1+cell": {
     "cellMetadata": {
      "byteLimit": 2048000,
      "rowLimit": 10000
     },
     "inputWidgets": {},
     "nuid": "f6a76434-be82-4a3a-aaea-bc3af3eb13a1",
     "showTitle": false,
     "title": ""
    }
   },
   "outputs": [
    {
     "output_type": "stream",
     "name": "stdout",
     "output_type": "stream",
     "text": [
      "[1, 16, 5476, 4]\n"
     ]
    }
   ],
   "source": [
    "def square(x):\n",
    "    return x ** 2\n",
    "\n",
    "print(list(map(square, a)))"
   ]
  },
  {
   "cell_type": "markdown",
   "metadata": {
    "application/vnd.databricks.v1+cell": {
     "cellMetadata": {},
     "inputWidgets": {},
     "nuid": "ad723f25-45d8-4f2e-8486-fd6ad382deae",
     "showTitle": false,
     "title": ""
    }
   },
   "source": [
    "On souhaite désormais ajouter récursivement les éléments de cette nouvelle liste. Réaliser cette opération à l'aide de la fonction reduce de functools."
   ]
  },
  {
   "cell_type": "code",
   "execution_count": 0,
   "metadata": {
    "application/vnd.databricks.v1+cell": {
     "cellMetadata": {
      "byteLimit": 2048000,
      "rowLimit": 10000
     },
     "inputWidgets": {},
     "nuid": "a6d49cb3-2e9c-4e82-a3cd-5529e4cc0ce5",
     "showTitle": false,
     "title": ""
    }
   },
   "outputs": [
    {
     "output_type": "stream",
     "name": "stdout",
     "output_type": "stream",
     "text": [
      "5497\n"
     ]
    }
   ],
   "source": [
    "from functools import reduce\n",
    "\n",
    "def add(x, y):\n",
    "    return x + y\n",
    "\n",
    "print(reduce(add, b))"
   ]
  },
  {
   "cell_type": "markdown",
   "metadata": {
    "application/vnd.databricks.v1+cell": {
     "cellMetadata": {},
     "inputWidgets": {},
     "nuid": "56c80705-bcfc-4b85-b52f-f1f4bcf9f420",
     "showTitle": false,
     "title": ""
    }
   },
   "source": [
    "map et reduce sont des opérateurs génériques et leur combinaison permet donc de modéliser énormément de problèmes."
   ]
  },
  {
   "cell_type": "markdown",
   "metadata": {
    "application/vnd.databricks.v1+cell": {
     "cellMetadata": {},
     "inputWidgets": {},
     "nuid": "d8de3084-1caf-4434-8ad6-20d2ce35ed7f",
     "showTitle": false,
     "title": ""
    }
   },
   "source": [
    "Recette de MapReduce :\n",
    "\n",
    "1. L'ensemble des données à traiter est découpé en plusieurs lots ou sous-ensembles.\n",
    "\n",
    "2. Dans une première étape, l'étape MAP, l'opérationmap, spécifiée pour notre problème, est appliquée à chaque lot. Cette opération transforme la paire(clé, valeur)représentant le lot en une liste de nouvelles paires(clé, valeur)constituant ainsi des résultats intermédiaires du traitement à effectuer sur les données complètes.\n",
    "\n",
    "3. Avant d'être envoyés à l'étape REDUCE, les résultats intermédiaires sont regroupés et triés par clé. C'est l'étape de SHUFFLE and SORT.\n",
    "\n",
    "4. Enfin, l'étape REDUCE consiste à appliquer l'opération reduce, spécifiée pour notre problème, à chaque clé. Elle agrège tous les résultats intermédiaires associés à une même clé et renvoie donc pour chaque clé une valeur unique.\n",
    "\n",
    "![Schéma MapReduce](../../docs/images/schema_mapreduce.jpeg)"
   ]
  },
  {
   "cell_type": "markdown",
   "metadata": {
    "application/vnd.databricks.v1+cell": {
     "cellMetadata": {},
     "inputWidgets": {},
     "nuid": "7e4f85d4-7a2d-47ce-a7aa-8e5d5da759e0",
     "showTitle": false,
     "title": ""
    }
   },
   "source": [
    "## Word Count"
   ]
  },
  {
   "cell_type": "markdown",
   "metadata": {
    "application/vnd.databricks.v1+cell": {
     "cellMetadata": {},
     "inputWidgets": {},
     "nuid": "56ef6976-6cc7-4c1a-b3cd-658e7c1c5cbc",
     "showTitle": false,
     "title": ""
    }
   },
   "source": [
    "defaultdict(int) est une structure de données fournie par le module collections de Python. Il s'agit d'une sous-classe de dictionnaire qui permet de définir une valeur par défaut pour les clés qui n'existent pas.\n",
    "Il est possible de lui préciser un type de données par défaut."
   ]
  },
  {
   "cell_type": "code",
   "execution_count": 0,
   "metadata": {
    "application/vnd.databricks.v1+cell": {
     "cellMetadata": {
      "byteLimit": 2048000,
      "rowLimit": 10000
     },
     "inputWidgets": {},
     "nuid": "e11d626a-a61d-4904-855d-46629b8eac1f",
     "showTitle": false,
     "title": ""
    }
   },
   "outputs": [],
   "source": [
    "from collections import defaultdict"
   ]
  },
  {
   "cell_type": "markdown",
   "metadata": {
    "application/vnd.databricks.v1+cell": {
     "cellMetadata": {},
     "inputWidgets": {},
     "nuid": "f8cae2b8-d074-4589-8e62-f847bf1c82ce",
     "showTitle": false,
     "title": ""
    }
   },
   "source": [
    "En utilisant int comme type de données par défaut (defaultdict(int)), si une clé n'existe pas dans le dictionnaire, elle sera automatiquement initialisée avec la valeur 0."
   ]
  },
  {
   "cell_type": "markdown",
   "metadata": {
    "application/vnd.databricks.v1+cell": {
     "cellMetadata": {},
     "inputWidgets": {},
     "nuid": "739f878d-340c-446a-88b2-cc409042d162",
     "showTitle": false,
     "title": ""
    }
   },
   "source": [
    "Ecrire une fonction Python word_cound permettant de renvoyer le defaultdict des paires mots, comptages d'un texte passé en argument. On pourra considérer que les mots sont toujours séparés par des espaces et utiliser la méthode split() pour séparer le texte en mots."
   ]
  },
  {
   "cell_type": "code",
   "execution_count": 0,
   "metadata": {
    "application/vnd.databricks.v1+cell": {
     "cellMetadata": {
      "byteLimit": 2048000,
      "rowLimit": 10000
     },
     "inputWidgets": {},
     "nuid": "e65dd24a-7b90-441a-b437-5198d7d9318e",
     "showTitle": false,
     "title": ""
    }
   },
   "outputs": [],
   "source": [
    "def word_count(text):\n",
    "    counts = defaultdict(int)\n",
    "    for word in text.split():\n",
    "        counts[word] += 1\n",
    "    return counts"
   ]
  },
  {
   "cell_type": "code",
   "execution_count": 0,
   "metadata": {
    "application/vnd.databricks.v1+cell": {
     "cellMetadata": {
      "byteLimit": 2048000,
      "rowLimit": 10000
     },
     "inputWidgets": {},
     "nuid": "869dec96-1263-4a7e-a75d-511712ab1b34",
     "showTitle": false,
     "title": ""
    }
   },
   "outputs": [
    {
     "output_type": "execute_result",
     "data": {
      "text/plain": [
       "defaultdict(int,\n",
       "            {'ceci': 1, 'est': 1, 'un': 2, 'texte': 1, 'et': 1, 'test': 1})"
      ]
     },
     "execution_count": 9,
     "metadata": {},
     "output_type": "execute_result"
    }
   ],
   "source": [
    "word_count(\"ceci est un texte et un test\")"
   ]
  },
  {
   "cell_type": "markdown",
   "metadata": {
    "application/vnd.databricks.v1+cell": {
     "cellMetadata": {},
     "inputWidgets": {},
     "nuid": "4bf85667-ed5f-4272-aa8b-5afabf9f84d4",
     "showTitle": false,
     "title": ""
    }
   },
   "source": [
    "Dans la suite, nous allons mettre en oeuvre le principe de MapReduce sur les paroles d'une chanson."
   ]
  },
  {
   "cell_type": "markdown",
   "metadata": {
    "application/vnd.databricks.v1+cell": {
     "cellMetadata": {},
     "inputWidgets": {},
     "nuid": "7da4e060-83df-48de-8d82-dbf1ed6727ac",
     "showTitle": false,
     "title": ""
    }
   },
   "source": [
    "Nous allons supposer que nos données d'entrée ont été découpées en différents fragments et qu'une opération de simplification a été appliquée sur chaque fragment pour supprimer les caractères de ponctuation, transformer chaque mot en son singulier (\"nos\" devient \"notre\") et ne garder que les mots de plus de 3 caractères."
   ]
  },
  {
   "cell_type": "markdown",
   "metadata": {
    "application/vnd.databricks.v1+cell": {
     "cellMetadata": {},
     "inputWidgets": {},
     "nuid": "a0ec6080-02e9-4559-af76-ae6f5f73b362",
     "showTitle": false,
     "title": ""
    }
   },
   "source": [
    "Voici ces morceaux :"
   ]
  },
  {
   "cell_type": "code",
   "execution_count": 0,
   "metadata": {
    "application/vnd.databricks.v1+cell": {
     "cellMetadata": {
      "byteLimit": 2048000,
      "rowLimit": 10000
     },
     "inputWidgets": {},
     "nuid": "ce37229e-bfe1-425f-933f-ee9400bed205",
     "showTitle": false,
     "title": ""
    }
   },
   "outputs": [],
   "source": [
    "D1 = {\"./lot1.txt\" : \"jour lève notre grisaille\"}\n",
    "D2 = {\"./lot2.txt\" : \"trottoir notre ruelle notre tour\"}\n",
    "D3 = {\"./lot3.txt\" : \"jour lève notre envie vous\"}\n",
    "D4 = {\"./lot4.txt\" : \"faire comprendre tous notre tour\"}"
   ]
  },
  {
   "cell_type": "markdown",
   "metadata": {
    "application/vnd.databricks.v1+cell": {
     "cellMetadata": {},
     "inputWidgets": {},
     "nuid": "7057ae7d-49f0-4833-a161-cc2b26fbf3eb",
     "showTitle": false,
     "title": ""
    }
   },
   "source": [
    "Ecrire une fonction map s'appliquant sur une paire clef, valeur qui renvoie le comptage des mots dans la valeur (la clef ne sera pas utilisée, ce n'est pas grave).\n",
    "Par exemple, son appel sur la clef et la valeur de D1 renverra [('jour', 1), ('lève', 1), ('notre', 1), ('grisaille', 1)]."
   ]
  },
  {
   "cell_type": "code",
   "execution_count": 0,
   "metadata": {
    "application/vnd.databricks.v1+cell": {
     "cellMetadata": {
      "byteLimit": 2048000,
      "rowLimit": 10000
     },
     "inputWidgets": {},
     "nuid": "3efd55ed-2a02-4622-8f7d-7601cddf0551",
     "showTitle": false,
     "title": ""
    }
   },
   "outputs": [],
   "source": [
    "def map_(key, value):\n",
    "    interm_counts = []\n",
    "    for word in value.split():\n",
    "        interm_counts.append((word, 1))\n",
    "    return interm_counts"
   ]
  },
  {
   "cell_type": "code",
   "execution_count": 0,
   "metadata": {
    "application/vnd.databricks.v1+cell": {
     "cellMetadata": {
      "byteLimit": 2048000,
      "rowLimit": 10000
     },
     "inputWidgets": {},
     "nuid": "eb93a368-a6a6-4274-8bf8-deae89ddbafd",
     "showTitle": false,
     "title": ""
    }
   },
   "outputs": [
    {
     "output_type": "stream",
     "name": "stdout",
     "output_type": "stream",
     "text": [
      "[('trottoir', 1), ('notre', 1), ('ruelle', 1), ('notre', 1), ('tour', 1)]\n"
     ]
    }
   ],
   "source": [
    "key, value = next(iter(D2.items()))\n",
    "print(map_(key, value))"
   ]
  },
  {
   "cell_type": "code",
   "execution_count": 0,
   "metadata": {
    "application/vnd.databricks.v1+cell": {
     "cellMetadata": {},
     "inputWidgets": {},
     "nuid": "bb4ccbe0-d88f-4447-9488-474bb3abfcd8",
     "showTitle": false,
     "title": ""
    }
   },
   "outputs": [],
   "source": [
    "key, value = next(iter(D1.items()))\n",
    "print(map(key, value))"
   ]
  },
  {
   "cell_type": "markdown",
   "metadata": {
    "application/vnd.databricks.v1+cell": {
     "cellMetadata": {},
     "inputWidgets": {},
     "nuid": "91c512a5-3cb7-47ff-bb24-6e539fc1a6bc",
     "showTitle": false,
     "title": ""
    }
   },
   "source": [
    "![Image map](../../docs/images/map.jpeg)"
   ]
  },
  {
   "cell_type": "markdown",
   "metadata": {
    "application/vnd.databricks.v1+cell": {
     "cellMetadata": {},
     "inputWidgets": {},
     "nuid": "e311fbe1-c400-46f4-8195-6137f633d0be",
     "showTitle": false,
     "title": ""
    }
   },
   "source": [
    "A ce stade, nous allons considérer que nous sommes un peu magicien et que nous sommes capables de regrouper et de trier, par clé commune, les résultats intermédiaires fournis par l'étape MAP. Cela correspond à l'étape SHUFFLE and SORT. Dans la pratique, cette étape est entièrement gérée par le framework d'exécution de MapReduce, de manière distribuée."
   ]
  },
  {
   "cell_type": "markdown",
   "metadata": {
    "application/vnd.databricks.v1+cell": {
     "cellMetadata": {},
     "inputWidgets": {},
     "nuid": "cc49da4f-0493-4025-9766-c58cfcced76d",
     "showTitle": false,
     "title": ""
    }
   },
   "source": [
    "![Shuffle and sort](../../docs/images/shuffle_sort.jpeg)"
   ]
  },
  {
   "cell_type": "markdown",
   "metadata": {
    "application/vnd.databricks.v1+cell": {
     "cellMetadata": {},
     "inputWidgets": {},
     "nuid": "0df1084e-69b7-4a47-a5e8-db90a7a73f8f",
     "showTitle": false,
     "title": ""
    }
   },
   "source": [
    "Ecrire une fonction reduce prenant en arguments une clef et une liste de valeurs et retournant un tuple formé de la clef et de la somme des valeurs de la liste. Par exemple, son appel sur (\"notre\", [1, 1, 1, 1, 1]) renverra 5."
   ]
  },
  {
   "cell_type": "code",
   "execution_count": 0,
   "metadata": {
    "application/vnd.databricks.v1+cell": {
     "cellMetadata": {
      "byteLimit": 2048000,
      "rowLimit": 10000
     },
     "inputWidgets": {},
     "nuid": "af9336fb-03c9-48b8-abfa-d1521a69261f",
     "showTitle": false,
     "title": ""
    }
   },
   "outputs": [],
   "source": [
    "def reduce_(key, values):\n",
    "    return (key, sum(values))"
   ]
  },
  {
   "cell_type": "code",
   "execution_count": 0,
   "metadata": {
    "application/vnd.databricks.v1+cell": {
     "cellMetadata": {
      "byteLimit": 2048000,
      "rowLimit": 10000
     },
     "inputWidgets": {},
     "nuid": "9661f47b-4425-44d4-bafa-8c23db1b8c9b",
     "showTitle": false,
     "title": ""
    }
   },
   "outputs": [
    {
     "output_type": "stream",
     "name": "stdout",
     "output_type": "stream",
     "text": [
      "('notre', 5)\n"
     ]
    }
   ],
   "source": [
    "print(reduce_(\"notre\", [1, 1, 1, 1, 1]))"
   ]
  },
  {
   "cell_type": "markdown",
   "metadata": {
    "application/vnd.databricks.v1+cell": {
     "cellMetadata": {},
     "inputWidgets": {},
     "nuid": "7410ced4-30a9-44db-80fe-2fa4e4f0cb2f",
     "showTitle": false,
     "title": ""
    }
   },
   "source": [
    "Et voilà, nous avons notre comptage de mots !"
   ]
  },
  {
   "cell_type": "markdown",
   "metadata": {
    "application/vnd.databricks.v1+cell": {
     "cellMetadata": {},
     "inputWidgets": {},
     "nuid": "4f240159-a808-4ab3-8ccb-0d61d8ff6a72",
     "showTitle": false,
     "title": ""
    }
   },
   "source": [
    "![Schéma global](../../docs/images/global.jpeg)"
   ]
  },
  {
   "cell_type": "markdown",
   "metadata": {
    "application/vnd.databricks.v1+cell": {
     "cellMetadata": {},
     "inputWidgets": {},
     "nuid": "60b482e3-78bc-49b6-9544-b027bb91ade9",
     "showTitle": false,
     "title": ""
    }
   },
   "source": [
    "En résumé, MapReduce c'est :\n",
    "\n",
    "- La généralisation du paradigme de conception d'algorithmes diviser pour régner au cadre distribué.\n",
    "\n",
    "- Un modèle de programmation reposant sur la combinaison de deux fonctions simples,mapetreduce, inspirées de la programmation fonctionnelle.\n",
    "\n",
    "- Un framework d'exécution prenant en charge le deploiement et la distribution des calculs sur un cluster.\n",
    "\n",
    "Le rôle des developpeurs d'applications distribuées, c'est donc de penser en MapReduce :\n",
    "\n",
    "- Choisir une manière de découper les données afin que l'opération MAP soit parallélisable.\n",
    "\n",
    "- Choisir la clé à utiliser pour le problème ciblé.\n",
    "\n",
    "- Écrire le code de la fonction pour l'opération MAP.\n",
    "\n",
    "- Écrire le code de la fonction pour l'opération REDUCE."
   ]
  },
  {
   "cell_type": "markdown",
   "metadata": {
    "application/vnd.databricks.v1+cell": {
     "cellMetadata": {},
     "inputWidgets": {},
     "nuid": "87710a98-010f-4489-bc59-19b228d26833",
     "showTitle": false,
     "title": ""
    }
   },
   "source": []
  }
 ],
 "metadata": {
  "application/vnd.databricks.v1+notebook": {
   "dashboards": [],
   "environmentMetadata": null,
   "language": "python",
   "notebookMetadata": {
    "pythonIndentUnit": 4
   },
   "notebookName": "spark-prise-en-main_enonce_mapreduce",
   "widgets": {}
  },
  "kernelspec": {
   "display_name": "test-yOZBwoax-py3.11",
   "language": "python",
   "name": "python3"
  },
  "language_info": {
   "codemirror_mode": {
    "name": "ipython",
    "version": 3
   },
   "file_extension": ".py",
   "mimetype": "text/x-python",
   "name": "python",
   "nbconvert_exporter": "python",
   "pygments_lexer": "ipython3",
   "version": "3.11.4"
  }
 },
 "nbformat": 4,
 "nbformat_minor": 0
}
