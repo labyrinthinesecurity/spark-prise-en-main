{
 "cells": [
  {
   "cell_type": "markdown",
   "metadata": {
    "application/vnd.databricks.v1+cell": {
     "cellMetadata": {},
     "inputWidgets": {},
     "nuid": "e2a92094-0154-4ebe-a2ea-f7a4928406c7",
     "showTitle": false,
     "title": ""
    }
   },
   "source": [
    "## Régression logistique et MLflow "
   ]
  },
  {
   "cell_type": "markdown",
   "metadata": {
    "application/vnd.databricks.v1+cell": {
     "cellMetadata": {
      "byteLimit": 2048000,
      "rowLimit": 10000
     },
     "inputWidgets": {},
     "nuid": "6e1bf506-a50d-427a-825a-167842abaae5",
     "showTitle": false,
     "title": ""
    }
   },
   "source": [
    "Nous allons exécuter notre code sur Databricks Community Edition, qui est l'option la plus facile pour appréhender l'apport de MLflow car elle comporte un service managé MLFlow.\n",
    "\n",
    "Si vous lancez ce notebook en local, il faudra utiliser un serveur de tracking en local, etc. Le [guide suivant](https://www.mlflow.org/docs/latest/getting-started/running-notebooks/index.html) peut vous aider à faire le set-up. J'ai commenté les lignes de code qui vont être nécessaires en dehors de Databricks."
   ]
  },
  {
   "cell_type": "code",
   "execution_count": null,
   "metadata": {
    "application/vnd.databricks.v1+cell": {
     "cellMetadata": {
      "byteLimit": 2048000,
      "rowLimit": 10000
     },
     "inputWidgets": {},
     "nuid": "eb1a497b-9e2c-4e94-b2d4-c0613a78de0b",
     "showTitle": false,
     "title": ""
    }
   },
   "outputs": [],
   "source": [
    "# Cellule d'import à compléter\n",
    "import mlflow\n",
    "# Votre code ici"
   ]
  },
  {
   "cell_type": "code",
   "execution_count": null,
   "metadata": {
    "application/vnd.databricks.v1+cell": {
     "cellMetadata": {
      "byteLimit": 2048000,
      "rowLimit": 10000
     },
     "inputWidgets": {},
     "nuid": "88275a3a-900e-4001-9313-fea73121dd92",
     "showTitle": false,
     "title": ""
    }
   },
   "outputs": [],
   "source": [
    "# mlflow.set_tracking_uri(uri=\"http://127.0.0.1:8080\")"
   ]
  },
  {
   "cell_type": "markdown",
   "metadata": {
    "application/vnd.databricks.v1+cell": {
     "cellMetadata": {},
     "inputWidgets": {},
     "nuid": "c1c6aaaa-1eab-46ac-8d2d-fc09263eb8af",
     "showTitle": false,
     "title": ""
    }
   },
   "source": [
    "Définir une expérimentation à l'aide de mlflow.set_experiment"
   ]
  },
  {
   "cell_type": "code",
   "execution_count": null,
   "metadata": {
    "application/vnd.databricks.v1+cell": {
     "cellMetadata": {},
     "inputWidgets": {},
     "nuid": "055840b9-e11f-4f8b-8f0d-4d4a7bf35a34",
     "showTitle": false,
     "title": ""
    }
   },
   "outputs": [],
   "source": [
    "# Votre code ici"
   ]
  },
  {
   "cell_type": "markdown",
   "metadata": {
    "application/vnd.databricks.v1+cell": {
     "cellMetadata": {},
     "inputWidgets": {},
     "nuid": "31d07887-5422-4d5e-8074-c497927fd3fc",
     "showTitle": false,
     "title": ""
    }
   },
   "source": [
    "\n",
    "Charger les données. Elles sont au format libsvm, qui est un format très utilisé pour représenter des données creuses (sparse). Elles sont déjà sous la forme attendue par un modèle (c'est-à-dire que dans ce TP, il n'y aura pas besoin de VectorAssembler)."
   ]
  },
  {
   "cell_type": "code",
   "execution_count": null,
   "metadata": {
    "application/vnd.databricks.v1+cell": {
     "cellMetadata": {
      "byteLimit": 2048000,
      "rowLimit": 10000
     },
     "inputWidgets": {},
     "nuid": "c13f2754-e012-42f5-bc7f-cd6e9fb6e769",
     "showTitle": false,
     "title": ""
    }
   },
   "outputs": [],
   "source": [
    "# Votre code ici"
   ]
  },
  {
   "cell_type": "markdown",
   "metadata": {
    "application/vnd.databricks.v1+cell": {
     "cellMetadata": {},
     "inputWidgets": {},
     "nuid": "19b779de-2fb2-441e-a613-7e15578e936b",
     "showTitle": false,
     "title": ""
    }
   },
   "source": [
    "En utilisant le TP précédent, implémenter une classification multiclasse en utilisant un classifier OneVsRest."
   ]
  },
  {
   "cell_type": "markdown",
   "metadata": {
    "application/vnd.databricks.v1+cell": {
     "cellMetadata": {},
     "inputWidgets": {},
     "nuid": "a3f5b3ab-a64a-4d12-8d87-bf83108891b9",
     "showTitle": false,
     "title": ""
    }
   },
   "source": [
    "Si vous êtes à l'aise, à réaliser en même temps, sinon après : logger dans MLflow les hyperparamètres, la métrique, et ajouter un tag pour décrire le run."
   ]
  },
  {
   "cell_type": "code",
   "execution_count": null,
   "metadata": {
    "application/vnd.databricks.v1+cell": {
     "cellMetadata": {
      "byteLimit": 2048000,
      "rowLimit": 10000
     },
     "inputWidgets": {},
     "nuid": "c955c80e-d10e-408b-854a-3df4dabe30bf",
     "showTitle": false,
     "title": ""
    }
   },
   "outputs": [],
   "source": [
    "# with mlflow.start_run():\n",
    "#    # Votre code ici"
   ]
  },
  {
   "cell_type": "code",
   "execution_count": null,
   "metadata": {
    "application/vnd.databricks.v1+cell": {
     "cellMetadata": {
      "byteLimit": 2048000,
      "rowLimit": 10000
     },
     "inputWidgets": {},
     "nuid": "e0533288-4a9a-4c2e-87c3-c8915097fc1f",
     "showTitle": false,
     "title": ""
    }
   },
   "outputs": [],
   "source": [
    "# Votre code ici"
   ]
  }
 ],
 "metadata": {
  "application/vnd.databricks.v1+notebook": {
   "dashboards": [],
   "language": "python",
   "notebookMetadata": {
    "mostRecentlyExecutedCommandWithImplicitDF": {
     "commandId": 3286188400704097,
     "dataframes": [
      "_sqldf"
     ]
    },
    "pythonIndentUnit": 4
   },
   "notebookName": "mlflow",
   "widgets": {}
  },
  "kernelspec": {
   "display_name": "mlflow-dev-env",
   "language": "python",
   "name": "python3"
  },
  "language_info": {
   "codemirror_mode": {
    "name": "ipython",
    "version": 3
   },
   "file_extension": ".py",
   "mimetype": "text/x-python",
   "name": "python",
   "nbconvert_exporter": "python",
   "pygments_lexer": "ipython3",
   "version": "3.8.13"
  }
 },
 "nbformat": 4,
 "nbformat_minor": 0
}
