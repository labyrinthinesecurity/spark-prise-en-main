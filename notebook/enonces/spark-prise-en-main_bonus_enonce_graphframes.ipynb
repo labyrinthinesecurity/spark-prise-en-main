{
 "cells": [
  {
   "cell_type": "markdown",
   "metadata": {
    "application/vnd.databricks.v1+cell": {
     "cellMetadata": {
      "byteLimit": 2048000,
      "rowLimit": 10000
     },
     "inputWidgets": {},
     "nuid": "ad7d6666-e7cc-41f3-97a2-da60b235a9e0",
     "showTitle": false,
     "title": ""
    }
   },
   "source": [
    "# GraphFrames"
   ]
  },
  {
   "cell_type": "markdown",
   "metadata": {
    "application/vnd.databricks.v1+cell": {
     "cellMetadata": {},
     "inputWidgets": {},
     "nuid": "7d7cbd46-efe5-4ee2-a720-42bcea95e149",
     "showTitle": false,
     "title": ""
    }
   },
   "source": [
    "Dans ce TP, nous allons utiliser la librairie GraphFrame. Afin de pouvoir utiliser la dernière version de celle-ci, rattacher ce notebook à un cluster 14.3 ML, qui contient les librairies compatibles."
   ]
  },
  {
   "cell_type": "code",
   "execution_count": null,
   "metadata": {
    "application/vnd.databricks.v1+cell": {
     "cellMetadata": {
      "byteLimit": 2048000,
      "rowLimit": 10000
     },
     "inputWidgets": {},
     "nuid": "5d2ea65b-c3c8-4f20-9b19-519deff18f53",
     "showTitle": false,
     "title": ""
    }
   },
   "outputs": [],
   "source": [
    "%sh /databricks/python3/bin/pip install graphframes"
   ]
  },
  {
   "cell_type": "code",
   "execution_count": null,
   "metadata": {
    "application/vnd.databricks.v1+cell": {
     "cellMetadata": {
      "byteLimit": 2048000,
      "rowLimit": 10000
     },
     "inputWidgets": {},
     "nuid": "6ffcfa2f-98e3-4c2d-9467-1fae7326c887",
     "showTitle": false,
     "title": ""
    }
   },
   "outputs": [],
   "source": [
    "from functools import reduce\n",
    "from pyspark.sql import functions as F\n",
    "from graphframes import GraphFrame"
   ]
  },
  {
   "cell_type": "markdown",
   "metadata": {
    "application/vnd.databricks.v1+cell": {
     "cellMetadata": {
      "byteLimit": 2048000,
      "rowLimit": 10000
     },
     "inputWidgets": {},
     "nuid": "7c63a8eb-416b-4cb1-8f39-b87962c37231",
     "showTitle": false,
     "title": ""
    }
   },
   "source": [
    "Il est possible de créer simplement des GraphFrames à partir de DataFrames de sommets et d'arêtes.\n",
    "\n",
    "<br>- Le DataFrame de sommets doit contenir une colonne spéciale, nommée \"id\", qui spécifie des identifiants uniques pour chaque sommet dans le graphe.\n",
    "<br>- Le DataFrame d'arêtes doit contenir deux colonnes spéciales : \"src\" (identifiant du sommet source de l'arête) et \"dst\" (identifiant du sommet destination de l'arête).\n",
    "<br>- Les deux DataFrames peuvent avoir d'autres colonnes arbitraires. Ces colonnes peuvent représenter des attributs de sommets et d'arêtes."
   ]
  },
  {
   "cell_type": "markdown",
   "metadata": {
    "application/vnd.databricks.v1+cell": {
     "cellMetadata": {},
     "inputWidgets": {},
     "nuid": "f8c60047-7f27-444c-85a2-bf1b3fb82423",
     "showTitle": false,
     "title": ""
    }
   },
   "source": [
    "On se donne la liste des personnes suivantes, caractérisée par 3 champs : l'id de la personne (en réalité du futur noeud), son nom et son âge. Ces personnes sont destinées à être les noeuds de notre futur graphe."
   ]
  },
  {
   "cell_type": "code",
   "execution_count": null,
   "metadata": {
    "application/vnd.databricks.v1+cell": {
     "cellMetadata": {
      "byteLimit": 2048000,
      "rowLimit": 10000
     },
     "inputWidgets": {},
     "nuid": "eb727d96-d561-4dd8-b308-209a98f7992a",
     "showTitle": false,
     "title": ""
    }
   },
   "outputs": [],
   "source": [
    "people = [\n",
    "    (\"a\", \"Alice\", 34),\n",
    "    (\"b\", \"Bob\", 36),\n",
    "    (\"c\", \"Charlie\", 30),\n",
    "    (\"d\", \"David\", 29),\n",
    "    (\"e\", \"Esther\", 32),\n",
    "    (\"f\", \"Fanny\", 36),\n",
    "    (\"g\", \"Gabby\", 60),\n",
    "]"
   ]
  },
  {
   "cell_type": "markdown",
   "metadata": {
    "application/vnd.databricks.v1+cell": {
     "cellMetadata": {
      "byteLimit": 2048000,
      "rowLimit": 10000
     },
     "inputWidgets": {},
     "nuid": "29991527-2082-439d-b4d8-d1030cc21e8c",
     "showTitle": false,
     "title": ""
    }
   },
   "source": [
    "Créer un dataframe vertices à partir de cette liste."
   ]
  },
  {
   "cell_type": "code",
   "execution_count": null,
   "metadata": {
    "application/vnd.databricks.v1+cell": {
     "cellMetadata": {
      "byteLimit": 2048000,
      "rowLimit": 10000
     },
     "inputWidgets": {},
     "nuid": "3f703048-4485-49f0-a2d1-55a8f9d8749f",
     "showTitle": false,
     "title": ""
    }
   },
   "outputs": [],
   "source": [
    "# Votre code ici"
   ]
  },
  {
   "cell_type": "markdown",
   "metadata": {
    "application/vnd.databricks.v1+cell": {
     "cellMetadata": {
      "byteLimit": 2048000,
      "rowLimit": 10000
     },
     "inputWidgets": {},
     "nuid": "6761cc75-df4b-47dc-9a20-ec27c5ff5c33",
     "showTitle": false,
     "title": ""
    }
   },
   "source": [
    "Ces personnes sont inscrites à un réseau social où deux options sont possibles :\n",
    "- suivre une personne (\"follow\"),\n",
    "- déclarer être ami avec cette personne (\"friend\"), ce qui n'est pas forcément réciproque.\n",
    "Il n'est pas possible de cumuler les deux status.\n",
    "\n",
    "Voici l'ensemble des relations :\n",
    "<br>- Alice a déclaré être amie avec Bob.\n",
    "<br>- Bob suit Charlie.\n",
    "<br>- Charlie suit Bob.\n",
    "<br>- Fanny suit Charlie.\n",
    "<br>- Esther suit Fanny.\n",
    "<br>- Esther a déclaré être amie avec David.\n",
    "<br>- David a déclaré être ami avec Alice.\n",
    "<br>- Alice a déclaré être amie avec Esther."
   ]
  },
  {
   "cell_type": "markdown",
   "metadata": {
    "application/vnd.databricks.v1+cell": {
     "cellMetadata": {
      "byteLimit": 2048000,
      "rowLimit": 10000
     },
     "inputWidgets": {},
     "nuid": "c1523b56-9ff6-43da-acf0-25fa0e63f5a4",
     "showTitle": false,
     "title": ""
    }
   },
   "source": [
    "Créer un dataframe contenant l'ensemble de ces interactions. Une interaction sera caractérisée par l'identifiant de la personne à l'origine de l'interaction (\"src\"), celui de la personne visée par l'interaction (\"dst\"), et le statut de la relation (\"relationship\", valant \"follow\" ou \"friend\")."
   ]
  },
  {
   "cell_type": "code",
   "execution_count": null,
   "metadata": {
    "application/vnd.databricks.v1+cell": {
     "cellMetadata": {
      "byteLimit": 2048000,
      "rowLimit": 10000
     },
     "inputWidgets": {},
     "nuid": "422f5fa5-0760-4fc6-8ae6-b2e15be8b72b",
     "showTitle": false,
     "title": ""
    }
   },
   "outputs": [],
   "source": [
    "# Votre code ici"
   ]
  },
  {
   "cell_type": "markdown",
   "metadata": {
    "application/vnd.databricks.v1+cell": {
     "cellMetadata": {
      "byteLimit": 2048000,
      "rowLimit": 10000
     },
     "inputWidgets": {},
     "nuid": "8494a119-8dd3-4b8c-8914-3e7571efd9d7",
     "showTitle": false,
     "title": ""
    }
   },
   "source": [
    "Créer un graphe représentatif de la situation à partir de ces deux dataframes."
   ]
  },
  {
   "cell_type": "code",
   "execution_count": null,
   "metadata": {
    "application/vnd.databricks.v1+cell": {
     "cellMetadata": {
      "byteLimit": 2048000,
      "rowLimit": 10000
     },
     "inputWidgets": {},
     "nuid": "6c3b3f91-def1-4aca-b61d-df7046989f50",
     "showTitle": false,
     "title": ""
    }
   },
   "outputs": [],
   "source": [
    "# Votre code ici"
   ]
  },
  {
   "cell_type": "markdown",
   "metadata": {
    "application/vnd.databricks.v1+cell": {
     "cellMetadata": {
      "byteLimit": 2048000,
      "rowLimit": 10000
     },
     "inputWidgets": {},
     "nuid": "01765b7f-c871-485c-ae7d-3526e699ba83",
     "showTitle": false,
     "title": ""
    }
   },
   "source": [
    "\n",
    "## Requêtes de base sur les graphes et les DataFrames\n",
    "Les objets de type GraphFrame fournissent plusieurs méthodes natives pour manipuler les graphes. Nous allons les manipuler ici."
   ]
  },
  {
   "cell_type": "markdown",
   "metadata": {
    "application/vnd.databricks.v1+cell": {
     "cellMetadata": {
      "byteLimit": 2048000,
      "rowLimit": 10000
     },
     "inputWidgets": {},
     "nuid": "65c8ccfc-07c6-443e-9268-95c0ae9606b1",
     "showTitle": false,
     "title": ""
    }
   },
   "source": [
    "Afficher les sommets/noeuds du graphe, ainsi que ses arcs. Afin de savoir dans quels attributs de notre objet ils sont stockés, consulter la documentation de la classe GraphFrame : https://graphframes.github.io/graphframes/docs/_site/api/python/graphframes.html."
   ]
  },
  {
   "cell_type": "code",
   "execution_count": null,
   "metadata": {
    "application/vnd.databricks.v1+cell": {
     "cellMetadata": {
      "byteLimit": 2048000,
      "rowLimit": 10000
     },
     "inputWidgets": {},
     "nuid": "2c870f49-f7c7-42ee-9431-8c5dff8f9c9c",
     "showTitle": false,
     "title": ""
    }
   },
   "outputs": [],
   "source": [
    "# Votre code ici"
   ]
  },
  {
   "cell_type": "markdown",
   "metadata": {
    "application/vnd.databricks.v1+cell": {
     "cellMetadata": {
      "byteLimit": 2048000,
      "rowLimit": 10000
     },
     "inputWidgets": {},
     "nuid": "56eb058b-77eb-4494-b2d6-bcfc2d14737f",
     "showTitle": false,
     "title": ""
    }
   },
   "source": [
    "Déterminer le \"degré entrant\" de l'ensemble des sommets (i.e. pour chaque sommet, le nombre de relations qui pointent vers ce sommet)."
   ]
  },
  {
   "cell_type": "code",
   "execution_count": null,
   "metadata": {
    "application/vnd.databricks.v1+cell": {
     "cellMetadata": {
      "byteLimit": 2048000,
      "rowLimit": 10000
     },
     "inputWidgets": {},
     "nuid": "6fb409ee-b794-4525-b591-8897fec60ad9",
     "showTitle": false,
     "title": ""
    }
   },
   "outputs": [],
   "source": [
    "# Votre code ici"
   ]
  },
  {
   "cell_type": "markdown",
   "metadata": {
    "application/vnd.databricks.v1+cell": {
     "cellMetadata": {
      "byteLimit": 2048000,
      "rowLimit": 10000
     },
     "inputWidgets": {},
     "nuid": "2e491005-ef24-4ee5-9790-d8c5afc55a81",
     "showTitle": false,
     "title": ""
    }
   },
   "source": [
    "Déterminer le degré sortant de l'ensemble des sommets."
   ]
  },
  {
   "cell_type": "code",
   "execution_count": null,
   "metadata": {
    "application/vnd.databricks.v1+cell": {
     "cellMetadata": {
      "byteLimit": 2048000,
      "rowLimit": 10000
     },
     "inputWidgets": {},
     "nuid": "6493b75a-a476-4f5e-9a4d-aeba43e16f83",
     "showTitle": false,
     "title": ""
    }
   },
   "outputs": [],
   "source": [
    "# Votre code ici"
   ]
  },
  {
   "cell_type": "markdown",
   "metadata": {
    "application/vnd.databricks.v1+cell": {
     "cellMetadata": {
      "byteLimit": 2048000,
      "rowLimit": 10000
     },
     "inputWidgets": {},
     "nuid": "c464119b-1d0f-4027-be76-a61c8f7e798c",
     "showTitle": false,
     "title": ""
    }
   },
   "source": [
    "Déterminer le degré des sommets (somme des degrés entrant et sortant)."
   ]
  },
  {
   "cell_type": "code",
   "execution_count": null,
   "metadata": {
    "application/vnd.databricks.v1+cell": {
     "cellMetadata": {
      "byteLimit": 2048000,
      "rowLimit": 10000
     },
     "inputWidgets": {},
     "nuid": "9c449a2b-98db-4417-bc71-be4873ef2943",
     "showTitle": false,
     "title": ""
    }
   },
   "outputs": [],
   "source": [
    "# Votre code ici"
   ]
  },
  {
   "cell_type": "markdown",
   "metadata": {
    "application/vnd.databricks.v1+cell": {
     "cellMetadata": {
      "byteLimit": 2048000,
      "rowLimit": 10000
     },
     "inputWidgets": {},
     "nuid": "3f5dd22c-6c4e-4916-b1c4-9733f7861e5d",
     "showTitle": false,
     "title": ""
    }
   },
   "source": [
    "Il est possible d'exécuter directement des requêtes sur le DataFrame des sommets.\n",
    "Trouver l'âge de la personne la plus jeune dans le graphe. Utiliser le DSL."
   ]
  },
  {
   "cell_type": "code",
   "execution_count": null,
   "metadata": {
    "application/vnd.databricks.v1+cell": {
     "cellMetadata": {
      "byteLimit": 2048000,
      "rowLimit": 10000
     },
     "inputWidgets": {},
     "nuid": "f788c7ed-75e4-4b24-8c77-f1feeaff162b",
     "showTitle": false,
     "title": ""
    }
   },
   "outputs": [],
   "source": [
    "# Votre code ici"
   ]
  },
  {
   "cell_type": "markdown",
   "metadata": {
    "application/vnd.databricks.v1+cell": {
     "cellMetadata": {
      "byteLimit": 2048000,
      "rowLimit": 10000
     },
     "inputWidgets": {},
     "nuid": "91c4a4cd-ec05-4752-8ccb-e92699f6d5ec",
     "showTitle": false,
     "title": ""
    }
   },
   "source": [
    "Il est bien entendu également possible d'exécuter des requêtes sur le DataFrame des arcs.\n",
    "Compter le nombre de relations de type \"follow\" dans le graphe."
   ]
  },
  {
   "cell_type": "code",
   "execution_count": null,
   "metadata": {
    "application/vnd.databricks.v1+cell": {
     "cellMetadata": {
      "byteLimit": 2048000,
      "rowLimit": 10000
     },
     "inputWidgets": {},
     "nuid": "d409d0d4-dfe1-425f-b02d-fe6545cac4c1",
     "showTitle": false,
     "title": ""
    }
   },
   "outputs": [],
   "source": [
    "# Votre code ici"
   ]
  },
  {
   "cell_type": "markdown",
   "metadata": {
    "application/vnd.databricks.v1+cell": {
     "cellMetadata": {
      "byteLimit": 2048000,
      "rowLimit": 10000
     },
     "inputWidgets": {},
     "nuid": "2b085802-8df0-4bdb-875e-1a227e01200e",
     "showTitle": false,
     "title": ""
    }
   },
   "source": [
    "## Trouver des motifs\n",
    "\n",
    "En utilisant des motifs, il est possible construire des relations plus complexes impliquant des arêtes et des sommets.\n",
    "\n",
    "<br>Les motifs à rechercher sont dénotés par des expressions.\n",
    "<br>Un expression élémentaire est \"(a)-[e]->(b)\". Elle signifie qu'il existe une arête dirigée de a vers b.\n",
    "<br>Il est possible de combiner ces expressions (le symbole ; est utilisé pour exprimer le ET logique).\n",
    "<br>Pour les sommets, la répétition d'une lettre signifie que la référence se fait à un même sommet.\n",
    "<br> Pour les arêtes, il n'est pas possible de répéter la même lettre.\n",
    "<br>Une fois l'expression construite, il faut appeler la méthode find de la manière suivante : graph.find(motif)\n",
    "\n",
    "Trouver toutes les paires de sommets avec des arêtes dans les deux directions entre eux (les relations directe et réciproque ne sont pas forcément les mêmes). Le résultat doit être un DataFrame, dans lequel les noms de colonnes sont donnés par les clés du motif."
   ]
  },
  {
   "cell_type": "code",
   "execution_count": null,
   "metadata": {
    "application/vnd.databricks.v1+cell": {
     "cellMetadata": {
      "byteLimit": 2048000,
      "rowLimit": 10000
     },
     "inputWidgets": {},
     "nuid": "97106ee3-cae7-4203-9d71-67df2054db10",
     "showTitle": false,
     "title": ""
    }
   },
   "outputs": [],
   "source": [
    "# Votre code ici"
   ]
  },
  {
   "cell_type": "markdown",
   "metadata": {
    "application/vnd.databricks.v1+cell": {
     "cellMetadata": {
      "byteLimit": 2048000,
      "rowLimit": 10000
     },
     "inputWidgets": {},
     "nuid": "0e043e71-1096-4928-b15b-6b5f1f8fe6c2",
     "showTitle": false,
     "title": ""
    }
   },
   "source": [
    "Puisque le résultat est un DataFrame, il est possible d'exécuter des requêtes par dessus le motif.\n",
    "Parmi les relations précédentes, déterminer celles qui concernent deux personnes dont l'une au moins est âgée de 34 ans ou plus."
   ]
  },
  {
   "cell_type": "code",
   "execution_count": null,
   "metadata": {
    "application/vnd.databricks.v1+cell": {
     "cellMetadata": {
      "byteLimit": 2048000,
      "rowLimit": 10000
     },
     "inputWidgets": {},
     "nuid": "f9fade27-09ff-4d28-a9df-2ef925f33f6f",
     "showTitle": false,
     "title": ""
    }
   },
   "outputs": [],
   "source": [
    "# Votre code ici"
   ]
  },
  {
   "cell_type": "markdown",
   "metadata": {
    "application/vnd.databricks.v1+cell": {
     "cellMetadata": {
      "byteLimit": 2048000,
      "rowLimit": 10000
     },
     "inputWidgets": {},
     "nuid": "e71eed48-9434-4f5c-9107-6c39d6848d9c",
     "showTitle": false,
     "title": ""
    }
   },
   "source": [
    "\n",
    "## Requêtes stateful\n",
    "La plupart des requêtes motif sont sans état et simples à exprimer, comme dans notre exemple précédent. Parfois, une requête plus complexe doit transporter un état le long d'un chemin dans le motif. On peut l'exprimer en combinant la recherche de motifs GraphFrame avec des filtres sur le résultat utilisant des opérations de séquence, agissant sur les colonnes du DataFrame.\n",
    "\n",
    "Exemple : nous souhaitions identifier les chaînes de 4 sommets a->b->c->d (donc 3 arêtes) vérifiant une certaine propriété définie par une séquence de fonctions. Le processus sera le suivant :\n",
    "<br> 1. Initialiser l'état sur le chemin.\n",
    "<br> 2. Mettre à jour l'état en fonction du sommet a.\n",
    "<br> 3. Mettre à jour l'état en fonction du sommet b.\n",
    "<br> 4. Mettre à jour l'état en fonction du sommet c.\n",
    "<br> 5. Et enfin, mettre à jour l'état en fonction du sommet d.\n",
    "\n",
    "Si l'état final correspond à nos conditions, alors le filtre accepte la chaîne."
   ]
  },
  {
   "cell_type": "markdown",
   "metadata": {
    "application/vnd.databricks.v1+cell": {
     "cellMetadata": {},
     "inputWidgets": {},
     "nuid": "62a012c5-a876-45b6-b016-4127fe8d5e3e",
     "showTitle": false,
     "title": ""
    }
   },
   "source": [
    "Identifier les chaînes de 4 sommets où au moins 2 des 3 arêtes sont des relations \"friend\". On suivra l'état suivant : nombre actuel d'arêtes \"friend\".\n",
    "Ne pas oublier qu'il est possible d'utiliser les fonctions de F (functions) importé en début de notebook."
   ]
  },
  {
   "cell_type": "code",
   "execution_count": null,
   "metadata": {
    "application/vnd.databricks.v1+cell": {
     "cellMetadata": {
      "byteLimit": 2048000,
      "rowLimit": 10000
     },
     "inputWidgets": {},
     "nuid": "3516afa8-12e5-4895-a1e1-60c5d4535325",
     "showTitle": false,
     "title": ""
    }
   },
   "outputs": [],
   "source": [
    "# Votre code ici"
   ]
  },
  {
   "cell_type": "markdown",
   "metadata": {
    "application/vnd.databricks.v1+cell": {
     "cellMetadata": {
      "byteLimit": 2048000,
      "rowLimit": 10000
     },
     "inputWidgets": {},
     "nuid": "abacf92e-4772-42b7-8c26-06fbf7fdee3c",
     "showTitle": false,
     "title": ""
    }
   },
   "source": [
    "\n",
    "## Sous-graphes\n",
    "GraphFrames fournit une API pour construire des sous-graphes en filtrant sur les arêtes et les sommets.\n",
    "<br>A partir de notre graphe complet, construire le graphe n'incluant que les personnes de plus de 30 ans et qui ont des amis de plus de 30 ans.\n",
    "<br>S'aider de la documentation pour filtrer les sommets et les arêtes. Indication : il existe une méthode pour supprimer les Objets isolés une fois les sommets et arêtes filtrés."
   ]
  },
  {
   "cell_type": "code",
   "execution_count": null,
   "metadata": {
    "application/vnd.databricks.v1+cell": {
     "cellMetadata": {
      "byteLimit": 2048000,
      "rowLimit": 10000
     },
     "inputWidgets": {},
     "nuid": "01ea3b1c-bac9-41a7-98ac-ab7694226e35",
     "showTitle": false,
     "title": ""
    }
   },
   "outputs": [],
   "source": [
    "# Votre code ici"
   ]
  },
  {
   "cell_type": "markdown",
   "metadata": {
    "application/vnd.databricks.v1+cell": {
     "cellMetadata": {
      "byteLimit": 2048000,
      "rowLimit": 10000
     },
     "inputWidgets": {},
     "nuid": "c7f01332-b02c-4026-afff-adf5d5accff4",
     "showTitle": false,
     "title": ""
    }
   },
   "source": [
    "\n",
    "## Algorithmes de graphes classiques\n",
    "\n",
    "GraphFrames fournit un certain nombre d'algorithmes \"built-in\", dont les plus notables sont :\n",
    "* Breadth-first search (BFS)\n",
    "* Connected components\n",
    "* Strongly connected components\n",
    "* Label Propagation Algorithm (LPA)\n",
    "* PageRank (classique et personnalisé)\n",
    "* Shortest paths\n",
    "* Triangle count\n",
    "\n",
    "Dans cette formation, nous nous intéresserons à PageRank et Shortest paths."
   ]
  },
  {
   "cell_type": "markdown",
   "metadata": {
    "application/vnd.databricks.v1+cell": {
     "cellMetadata": {
      "byteLimit": 2048000,
      "rowLimit": 10000
     },
     "inputWidgets": {},
     "nuid": "f70a41c4-9a76-4d7e-9dc1-a55c344cf62f",
     "showTitle": false,
     "title": ""
    }
   },
   "source": [
    "## PageRank\n",
    "\n",
    "Le but de PageRank est d'identifier les sommets \"importants\"."
   ]
  },
  {
   "cell_type": "markdown",
   "metadata": {
    "application/vnd.databricks.v1+cell": {
     "cellMetadata": {
      "byteLimit": 2048000,
      "rowLimit": 10000
     },
     "inputWidgets": {},
     "nuid": "f418b3c6-443f-4347-a287-003f630c79e1",
     "showTitle": false,
     "title": ""
    }
   },
   "source": [
    "De votre point de vue, quel sommet du graphe est le plus important ?\n",
    "<br>Lancer l'algorithme PageRank sur notre graphe avec les paramètres suivants :\n",
    "<br>resetProbability=0.15\n",
    "<br>tol=0.01\n",
    "<br>Afficher les résultats."
   ]
  },
  {
   "cell_type": "code",
   "execution_count": null,
   "metadata": {
    "application/vnd.databricks.v1+cell": {
     "cellMetadata": {
      "byteLimit": 2048000,
      "rowLimit": 10000
     },
     "inputWidgets": {},
     "nuid": "b9aedee4-c064-44c2-95cc-1b9f6dc8048d",
     "showTitle": false,
     "title": ""
    }
   },
   "outputs": [],
   "source": [
    "# Votre code ici"
   ]
  },
  {
   "cell_type": "markdown",
   "metadata": {
    "application/vnd.databricks.v1+cell": {
     "cellMetadata": {},
     "inputWidgets": {},
     "nuid": "b35cb6bc-77bb-4542-9990-f86aab4d2238",
     "showTitle": false,
     "title": ""
    }
   },
   "source": [
    "Contrairement au PageRank standard, qui calcule les scores de pertinence en fonction de la structure globale du graphe, le PageRank personnalisé prend en compte les préférences ou les priorités spécifiques de l'utilisateur.\n",
    "<br> Dans ce contexte de PageRank personnalisé, sourceId permet de régler le noeud (via son identifiant) à partir duquel l'algorithme commence à évaluer la pertinence des autres nœuds du graphe.\n",
    "<br> Relancer l'algorithme PageRank en choisissant le noeud \"f\" correspondant à Fanny comme sourceId."
   ]
  },
  {
   "cell_type": "code",
   "execution_count": null,
   "metadata": {
    "application/vnd.databricks.v1+cell": {
     "cellMetadata": {
      "byteLimit": 2048000,
      "rowLimit": 10000
     },
     "inputWidgets": {},
     "nuid": "f7d8f095-6c0a-43d1-95de-969b06ada4a0",
     "showTitle": false,
     "title": ""
    }
   },
   "outputs": [],
   "source": [
    "# Votre code ici"
   ]
  },
  {
   "cell_type": "markdown",
   "metadata": {
    "application/vnd.databricks.v1+cell": {
     "cellMetadata": {},
     "inputWidgets": {},
     "nuid": "ece02a28-d9a6-414a-ba51-37db49c0aadd",
     "showTitle": false,
     "title": ""
    }
   },
   "source": [
    "Essayer d'expliquer le résultat.\n",
    "A votre avis, quelle(s) propriété(s) de graphe(s) rendent le point de départ d'autant plus important ?"
   ]
  },
  {
   "cell_type": "markdown",
   "metadata": {
    "application/vnd.databricks.v1+cell": {
     "cellMetadata": {
      "byteLimit": 2048000,
      "rowLimit": 10000
     },
     "inputWidgets": {},
     "nuid": "c90172a5-c7dd-4b18-ac19-d54fb99b9e43",
     "showTitle": false,
     "title": ""
    }
   },
   "source": [
    "\n",
    "## Shortest paths\n",
    "\n",
    "Calcule les chemins les plus courts vers un ensemble donné de sommets \"repères\" (landmarks en anglais)."
   ]
  },
  {
   "cell_type": "markdown",
   "metadata": {
    "application/vnd.databricks.v1+cell": {
     "cellMetadata": {},
     "inputWidgets": {},
     "nuid": "144a1d71-5122-4f6a-864f-1aa64f561b2a",
     "showTitle": false,
     "title": ""
    }
   },
   "source": [
    "A l'aide de l'algorithme shortestPaths, calculer , pour chaque sommet, la longueur du plus court chemin reliant ce sommet au sommet \"a\" et celle du plus court chemin reliant ce sommet au sommet \"d\" (s'il existe de tels chemins)."
   ]
  },
  {
   "cell_type": "code",
   "execution_count": null,
   "metadata": {
    "application/vnd.databricks.v1+cell": {
     "cellMetadata": {
      "byteLimit": 2048000,
      "rowLimit": 10000
     },
     "inputWidgets": {},
     "nuid": "d4721538-9f67-4522-8204-49e7467748d4",
     "showTitle": false,
     "title": ""
    }
   },
   "outputs": [],
   "source": [
    "# Votre code ici"
   ]
  },
  {
   "cell_type": "markdown",
   "metadata": {
    "application/vnd.databricks.v1+cell": {
     "cellMetadata": {
      "byteLimit": 2048000,
      "rowLimit": 10000
     },
     "inputWidgets": {},
     "nuid": "2d6d6fe6-8824-4a13-903b-c48404ec9d57",
     "showTitle": false,
     "title": ""
    }
   },
   "source": [
    "Bonus : Choisir un algorithme supplémentaire dans la liste des algorithmes classiques et le tester !"
   ]
  },
  {
   "cell_type": "code",
   "execution_count": null,
   "metadata": {
    "application/vnd.databricks.v1+cell": {
     "cellMetadata": {},
     "inputWidgets": {},
     "nuid": "f5f29917-5b7a-49d8-b233-8ae24229e061",
     "showTitle": false,
     "title": ""
    }
   },
   "outputs": [],
   "source": [
    "# Votre code ici"
   ]
  }
 ],
 "metadata": {
  "application/vnd.databricks.v1+notebook": {
   "dashboards": [],
   "language": "python",
   "notebookMetadata": {
    "mostRecentlyExecutedCommandWithImplicitDF": {
     "commandId": 1721683230864567,
     "dataframes": [
      "_sqldf"
     ]
    },
    "pythonIndentUnit": 4
   },
   "notebookName": "QNC_7_graphframes",
   "widgets": {}
  },
  "language_info": {
   "name": "python"
  }
 },
 "nbformat": 4,
 "nbformat_minor": 0
}
