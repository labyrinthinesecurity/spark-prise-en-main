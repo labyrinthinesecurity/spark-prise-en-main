{
 "cells": [
  {
   "cell_type": "markdown",
   "metadata": {
    "application/vnd.databricks.v1+cell": {
     "cellMetadata": {},
     "inputWidgets": {},
     "nuid": "0a2a92bf-3f31-49d6-8c31-1a69dec04b8d",
     "showTitle": false,
     "title": ""
    }
   },
   "source": [
    "Uploader le fichier products.csv. Repérer les valeurs aberrantes dans le fichier (ordre de grandeur : plusieurs centaines)."
   ]
  }
 ],
 "metadata": {
  "application/vnd.databricks.v1+notebook": {
   "dashboards": [],
   "language": "python",
   "notebookMetadata": {
    "mostRecentlyExecutedCommandWithImplicitDF": {
     "commandId": 1312777354047232,
     "dataframes": [
      "_sqldf"
     ]
    },
    "pythonIndentUnit": 4
   },
   "notebookName": "SPN_exploration",
   "widgets": {}
  }
 },
 "nbformat": 4,
 "nbformat_minor": 0
}
